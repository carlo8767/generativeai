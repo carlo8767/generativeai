{
 "cells": [
  {
   "cell_type": "markdown",
   "id": "7919764d",
   "metadata": {},
   "source": [
    "<div style=\"text-align: center;\">\n",
    "    <h1 style=\"color: #3498db;\">Artificial Intelligence & Machine Learning</h1>\n",
    "    <h2 style=\"color: #3498db;\">Part 1: Evaluation metrics for classification</h2>\n",
    "</div>\n",
    "\n",
    "-------------------------------------------------------------"
   ]
  },
  {
   "cell_type": "markdown",
   "id": "55003043",
   "metadata": {},
   "source": [
    "<div style=\"background-color: #f2f2f2; padding: 10px; border-radius: 5px;\">\n",
    "    <b>Authors:</b> K. Said<br>\n",
    "    <b>Date:</b> 08-09-2023\n",
    "</div>\n",
    "\n",
    "<div style=\"background-color: #e6e6e6; padding: 10px; border-radius: 5px; margin-top: 10px;\">\n",
    "    <p>This notebook is part of the \"Artificial Intelligence & Machine Learning\" lecture material. The following copyright statement applies to all contents and code within this file.</p>\n",
    "    <b>Copyright statement:</b>\n",
    "    <p>This material, no matter whether in printed or electronic form, may be used for personal and non-commercial educational use only. Any reproduction of this manuscript, no matter whether as a whole or in parts, no matter whether in printed or in electronic form, requires explicit prior acceptance of the authors and lecturers.</p>\n",
    "</div>\n"
   ]
  },
  {
   "cell_type": "markdown",
   "id": "7d01da6d",
   "metadata": {},
   "source": [
    "<h1 style=\"color:rgb(0,120,170)\">Introduction</h1>\n",
    "\n",
    "-----------------------------------------------\n",
    "\n",
    "<h2 style=\"color:rgb(0,120,0)\">What you have learned so far</h2>\n",
    "\n",
    "--------------------------------------------------------------------\n",
    "\n",
    "In the last exercise we were introduced to the topic of Over-and Underfitting. We learned how Over- or Underfitting can happen, how to avoid some of the pitfals and also how to detect it. Now that we are done with that, we still have a few little steps left to fully understand the Machine Learning Process.\n",
    "\n",
    "\n",
    "<h2 style=\"color:rgb(0,120,0)\">Our Task</h2>\n",
    "\n",
    "-------------------------------------------------\n",
    "\n",
    "In the Module 4 Notebooks you will learn more about different evaluation metrics for classification, regression and clustering. We will start by first providing you with some prediction, which we will evaluate step-by-step.\n",
    "Afterwards, it will be your turn to try other evaluation metrics."
   ]
  },
  {
   "cell_type": "markdown",
   "id": "2a742a00",
   "metadata": {},
   "source": [
    "<h1 style=\"color:rgb(0,120,170)\">Evaluation for classification - Example</h1>\n",
    "\n",
    "In this section we will provide you with some predictions on the breast cancer dataset. We will show you some of the things you might have learned during the lecture and explain how to calculate them. In the next section, you can then try to apply the things from this section on your own dataset. Now without further ado, let's get started.\n",
    "\n",
    "**Sidenote**: The breast cancer dataset is freely available on kaggle. The features are computed from a digitized image of a fine needle aspirate (FNA) of a breast mass. They describe characteristics of the cell nuclei present in the image."
   ]
  },
  {
   "cell_type": "code",
   "execution_count": 1,
   "id": "c9830cde",
   "metadata": {},
   "outputs": [],
   "source": [
    "import numpy as np\n",
    "import seaborn as sns\n",
    "from sklearn.datasets import load_breast_cancer\n",
    "from sklearn.model_selection import train_test_split\n",
    "from sklearn.svm import SVC\n",
    "from sklearn.metrics import confusion_matrix, accuracy_score, precision_score, recall_score, f1_score, roc_curve, roc_auc_score\n",
    "import matplotlib.pyplot as plt\n",
    "\n",
    "np.random.seed(42) # DO NOT CHANGE"
   ]
  },
  {
   "cell_type": "markdown",
   "id": "6385a32e",
   "metadata": {},
   "source": [
    "<details>\n",
    "<summary style=\"font-size: larger; color: white; background-color: rgba(255, 165, 0, 0.6); border: 1px solid grey; padding: 5px 15px; border-radius: 8px; cursor: pointer;\">Make predictions</summary>\n",
    "\n",
    "<div style=\"background-color: rgba(255, 204, 153, 0.6); padding: 10px; border-radius: 5px;\">\n",
    "   In this step we will simply load our example dataset and make a train-test-split (as we have already learned in the previous notebooks). Afterwards we load a Support Vector Classifier and make predictions on the dataset.\n",
    "</div>\n",
    "</details>\n"
   ]
  },
  {
   "cell_type": "code",
   "execution_count": 2,
   "id": "a2ded77d",
   "metadata": {},
   "outputs": [
    {
     "name": "stdout",
     "output_type": "stream",
     "text": [
      "Trainingset Length: 398, Testset Length: 171\n"
     ]
    }
   ],
   "source": [
    "# Load the Breast Cancer dataset and make Train-Test-Split\n",
    "data = load_breast_cancer()\n",
    "X = data.data\n",
    "y = data.target\n",
    "\n",
    "X_train, X_test, y_train, y_test = train_test_split(X, y, test_size=0.3, random_state=42)\n",
    "print(f\"Trainingset Length: {len(X_train)}, Testset Length: {len(X_test)}\")\n"
   ]
  },
  {
   "cell_type": "code",
   "execution_count": 3,
   "id": "e67a8177",
   "metadata": {},
   "outputs": [],
   "source": [
    "# Create and train a Support Vector Machine (SVM) Classifier and make predictions on the test set\n",
    "clf = SVC(probability=True)\n",
    "clf.fit(X_train, y_train)\n",
    "predictions = clf.predict(X_test)\n"
   ]
  },
  {
   "cell_type": "code",
   "execution_count": 4,
   "id": "7dc94d1b",
   "metadata": {},
   "outputs": [
    {
     "data": {
      "image/png": "[encoded data removed]",
      "text/plain": [
       "<Figure size 432x288 with 1 Axes>"
      ]
     },
     "metadata": {
      "needs_background": "light"
     },
     "output_type": "display_data"
    }
   ],
   "source": [
    "# Lets do a simple plot\n",
    "cancer_count = (predictions == 1).sum()\n",
    "no_cancer_count = (predictions == 0).sum()\n",
    "labels = ['Cancer', 'No Cancer']\n",
    "counts = [cancer_count, no_cancer_count]\n",
    "plt.bar(labels, counts, color=['red', 'green'])\n",
    "\n",
    "for i in range(len(counts)):\n",
    "    plt.text(i, counts[i], str(counts[i]), ha='center', va='bottom')\n",
    "\n",
    "plt.title('Cancer vs. No Cancer Predictions')\n",
    "plt.xlabel('Class')\n",
    "plt.ylabel('Count')\n",
    "plt.show()"
   ]
  },
  {
   "cell_type": "markdown",
   "id": "efedd085",
   "metadata": {},
   "source": [
    "<div style=\"background-color: #f2f2f2; padding: 10px; border-radius: 5px;\">\n",
    "    According to our prediction, we have approx. 119 cancer cases and 52 and classified as no-cancer. Now it's our task to check wether this predictions are correct or not.\n",
    "</div>"
   ]
  },
  {
   "cell_type": "markdown",
   "id": "be13328b",
   "metadata": {},
   "source": [
    "<details>\n",
    "<summary style=\"font-size: larger; color: white; background-color: rgba(255, 165, 0, 0.6); border: 1px solid grey; padding: 5px 15px; border-radius: 8px; cursor: pointer;\">TP, TN, FP, FN and Confusion Matrix</summary>\n",
    "\n",
    "<div style=\"background-color: rgba(255, 204, 153, 0.6); padding: 10px; border-radius: 5px;\">\n",
    "   One way of evaluating the performance of a model would be through a confusion matrix, where one is able to see the amount of truly predicted values vs the amount of falsely predicted values. \n",
    "   \n",
    "    \n",
    "</div>\n",
    "</details>\n"
   ]
  },
  {
   "cell_type": "code",
   "execution_count": 5,
   "id": "f4b68904",
   "metadata": {},
   "outputs": [
    {
     "name": "stdout",
     "output_type": "stream",
     "text": [
      "True Positives (TP): 108\n",
      "True Negatives (TN): 52\n",
      "False Positives (FP): 11\n",
      "False Negatives (FN): 0\n"
     ]
    },
    {
     "data": {
      "image/png": "[encoded data removed]",
      "text/plain": [
       "<Figure size 432x288 with 1 Axes>"
      ]
     },
     "metadata": {
      "needs_background": "light"
     },
     "output_type": "display_data"
    }
   ],
   "source": [
    "# Calculate TP, TN, FP, FN\n",
    "tp = np.sum((predictions == 1) & (y_test == 1))\n",
    "tn = np.sum((predictions == 0) & (y_test == 0))\n",
    "fp = np.sum((predictions == 1) & (y_test == 0))\n",
    "fn = np.sum((predictions == 0) & (y_test == 1))\n",
    "\n",
    "print(f\"True Positives (TP): {tp}\")\n",
    "print(f\"True Negatives (TN): {tn}\")\n",
    "print(f\"False Positives (FP): {fp}\")\n",
    "print(f\"False Negatives (FN): {fn}\")\n",
    "\n",
    "conf_matrix = confusion_matrix(y_test, predictions)\n",
    "class_labels = [\"No Cancer\", \"Cancer\"]\n",
    "\n",
    "plt.figure(figsize=(6, 4))\n",
    "sns.heatmap(conf_matrix, annot=True, fmt=\"d\", cmap=\"Blues\", cbar=False, xticklabels=class_labels, yticklabels=class_labels)\n",
    "plt.xlabel(\"Predicted Labels\")\n",
    "plt.ylabel(\"True Labels\")\n",
    "plt.title(\"Confusion Matrix\")\n",
    "plt.show()\n"
   ]
  },
  {
   "cell_type": "markdown",
   "id": "bfd1dda5",
   "metadata": {},
   "source": [
    "<div style=\"background-color: #f2f2f2; padding: 10px; border-radius: 5px;\">\n",
    "    Having a look at our prediction results, we predicted a total of 160 correct values (True Positives and True Negatives). Our model also falsely predicted 11 values as Cancer, even though the correct class would have been No cancer. In a real-life scenario this probably would have caused doctors to check the patient again. However, we also see that our model did not falsely predict \"No Cancer\", which is a good message. Why? A miss may be much more expensive than a false alarm.\n",
    "</div>"
   ]
  },
  {
   "cell_type": "markdown",
   "id": "eb5ffda7",
   "metadata": {},
   "source": [
    "<details>\n",
    "<summary style=\"font-size: larger; color: white; background-color: rgba(255, 165, 0, 0.6); border: 1px solid grey; padding: 5px 15px; border-radius: 8px; cursor: pointer;\">Accuracy, Precision, Recall, and F1-Score</summary>\n",
    "\n",
    "<div style=\"background-color: rgba(255, 204, 153, 0.6); padding: 10px; border-radius: 5px;\">\n",
    "    When usually evaluating the performance of different models and trying to compare them, we don't always want to create confusion matrices. Instead we use other evaluation metrics such as accuracy, one of the most widespread metrics. However, there are also many others, but for simplicity, we will only focus on 4                          \n",
    "    \n",
    "1. $\\text{Accuracy} = \\frac{\\text{True Positives} + \\text{True Negatives}}{\\text{Total Population}}$\n",
    "\n",
    "    \n",
    "2. $\\text{Precision} = \\frac{\\text{True Positives}}{\\text{True Positives} + \\text{False Positives}}$\n",
    "\n",
    "    \n",
    "3. $\\text{Recall (True Positive Rate)} = \\frac{\\text{True Positives}}{\\text{True Positives} + \\text{False Negatives}}$\n",
    "\n",
    "    \n",
    "4. $\\text{F1-Score} = 2 \\cdot \\frac{\\text{Precision} \\cdot \\text{Recall}}{\\text{Precision} + \\text{Recall}}$\n",
    "\n",
    "</div>\n",
    "</details>\n"
   ]
  },
  {
   "cell_type": "code",
   "execution_count": 6,
   "id": "6ee6938a",
   "metadata": {},
   "outputs": [
    {
     "name": "stdout",
     "output_type": "stream",
     "text": [
      "\n",
      "Accuracy: 0.94\n",
      "Precision: 0.91\n",
      "Recall: 1.00\n",
      "F1-score: 0.95\n"
     ]
    }
   ],
   "source": [
    "# Calculate all 4 evaluation metrics based on previous predictions\n",
    "# For simplicity we use sklearn predefined metrics\n",
    "accuracy = accuracy_score(y_test, predictions)\n",
    "print(f\"\\nAccuracy: {accuracy:.2f}\")\n",
    "\n",
    "precision = precision_score(y_test, predictions)\n",
    "print(f\"Precision: {precision:.2f}\")\n",
    "\n",
    "recall = recall_score(y_test, predictions)\n",
    "print(f\"Recall: {recall:.2f}\")\n",
    "\n",
    "f1 = f1_score(y_test, predictions)\n",
    "print(f\"F1-score: {f1:.2f}\")\n"
   ]
  },
  {
   "cell_type": "markdown",
   "id": "02d02758",
   "metadata": {},
   "source": [
    "<div style=\"background-color: #f2f2f2; padding: 10px; border-radius: 5px;\">\n",
    "    Quite interesting, all 4 measures have different results. This is one of the reasons why one should never only rely on 1 evaluation metric when trying to compare the model performances. Usually one should use 2-3 different metrics during the training and evaluation process, as different metrics have different use-cases.\n",
    "</div>"
   ]
  },
  {
   "cell_type": "markdown",
   "id": "10e9f82e",
   "metadata": {},
   "source": [
    "<details>\n",
    "<summary style=\"font-size: larger; color: white; background-color: rgba(255, 165, 0, 0.6); border: 1px solid grey; padding: 5px 15px; border-radius: 8px; cursor: pointer;\">ROC vs AUC</summary>\n",
    "\n",
    "<div style=\"background-color: rgba(255, 204, 153, 0.6); padding: 10px; border-radius: 5px;\">\n",
    "   As you have learned in the lecture, another way of evaluation would be by creating ROC curves and calculating the underlying area, called AUC. Luckily sklearn provides us with a wide range of predefined ML functions, so we don't have to calculate all by ourself.\n",
    "</div>\n",
    "</details>\n"
   ]
  },
  {
   "cell_type": "code",
   "execution_count": 7,
   "id": "4346ee50",
   "metadata": {},
   "outputs": [
    {
     "data": {
      "image/png": "[encoded data removed]",
      "text/plain": [
       "<Figure size 576x432 with 1 Axes>"
      ]
     },
     "metadata": {
      "needs_background": "light"
     },
     "output_type": "display_data"
    }
   ],
   "source": [
    "# Calculate ROC curve and AUC\n",
    "y_prob = clf.predict_proba(X_test)[:, 1]  # Probability of positive class\n",
    "fpr, tpr, thresholds = roc_curve(y_test, y_prob)\n",
    "roc_auc = roc_auc_score(y_test, y_prob)\n",
    "\n",
    "plt.figure(figsize=(8, 6))\n",
    "plt.fill_between(fpr, tpr, color='blue', alpha=0.2, label= f\"AUC = {roc_auc:.4f}\")\n",
    "plt.plot(fpr, tpr, color='darkorange', lw=2, label=f'ROC curve')\n",
    "plt.plot([0, 1], [0, 1], color='navy', lw=2, linestyle='--')\n",
    "plt.xlim([0.0, 1.0])\n",
    "plt.ylim([0.0, 1.05])\n",
    "plt.xlabel('False Positive Rate')\n",
    "plt.ylabel('True Positive Rate')\n",
    "plt.title('Receiver Operating Characteristic (ROC) Curve')\n",
    "plt.legend(loc=\"lower right\")\n",
    "\n",
    "plt.show()"
   ]
  },
  {
   "cell_type": "markdown",
   "id": "3ba1a9d9",
   "metadata": {},
   "source": [
    "<div style=\"background-color: #f2f2f2; padding: 10px; border-radius: 5px;\">\n",
    "    Our AUC is 0.9931, this is almost a perfect result, indicating that our classifier performs very good on this dataset. Since this was only a relatively simple dataset, this shouldn't surprise us.\n",
    "</div>"
   ]
  },
  {
   "cell_type": "markdown",
   "id": "b4bd0746",
   "metadata": {},
   "source": [
    "<h1 style=\"color:rgb(0,120,170)\">Evaluation for classification - Your turn</h1>\n",
    "\n",
    "Now in this section, try to use some of the evaluation metrics above on the predictions of your dataset.\n",
    "For this, you can load the model just as above. Fit your preprocessed data into the model and create some example predictions. If you want to be more creative, you could also load a second model, and try to compare their performances using different metrics."
   ]
  },
  {
   "cell_type": "code",
   "execution_count": null,
   "id": "7dc39a50",
   "metadata": {},
   "outputs": [],
   "source": []
  },
  {
   "cell_type": "code",
   "execution_count": null,
   "id": "f2338958",
   "metadata": {},
   "outputs": [],
   "source": []
  }
 ],
 "metadata": {
  "kernelspec": {
   "display_name": "Python 3 (ipykernel)",
   "language": "python",
   "name": "python3"
  },
  "language_info": {
   "codemirror_mode": {
    "name": "ipython",
    "version": 3
   },
   "file_extension": ".py",
   "mimetype": "text/x-python",
   "name": "python",
   "nbconvert_exporter": "python",
   "pygments_lexer": "ipython3",
   "version": "3.12.3"
  }
 },
 "nbformat": 4,
 "nbformat_minor": 5
}
